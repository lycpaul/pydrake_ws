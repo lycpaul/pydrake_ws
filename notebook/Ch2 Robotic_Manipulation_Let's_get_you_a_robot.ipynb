{
  "nbformat": 4,
  "nbformat_minor": 0,
  "metadata": {
    "kernelspec": {
      "display_name": "Python 3",
      "language": "python",
      "name": "python3"
    },
    "language_info": {
      "codemirror_mode": {
        "name": "ipython",
        "version": 3
      },
      "file_extension": ".py",
      "mimetype": "text/x-python",
      "name": "python",
      "nbconvert_exporter": "python",
      "pygments_lexer": "ipython3",
      "version": "3.8.6-final"
    },
    "colab": {
      "name": "Robotic Manipulation - Let's get you a robot.ipynb",
      "provenance": [],
      "collapsed_sections": [],
      "toc_visible": true
    }
  },
  "cells": [
    {
      "cell_type": "markdown",
      "metadata": {
        "id": "EgiF12Hf1Dhs"
      },
      "source": [
        "**I recommend you run the first code cell of this notebook immediately, to start provisioning drake on the cloud machine, then you can leave this window open as you [read the textbook](manipulation.csail.mit.edu/robot.html).**\n",
        "\n",
        "# Notebook setup\n",
        "\n",
        "The following cell will:\n",
        "- on Colab (only), install Drake to `/opt/drake`, install Drake's prerequisites via `apt`, and add pydrake to `sys.path`.  This will take approximately two minutes on the first time it runs (to provision the machine), but should only need to reinstall once every 12 hours.  If you navigate between notebooks using Colab's \"File->Open\" menu, then you can avoid provisioning a separate machine for each notebook.\n",
        "- launch a server for our 3D visualizer (MeshCat) that will be used for the remainder of this notebook.\n",
        "\n",
        "You will need to rerun this cell if you restart the kernel, but it should be fast because the machine will already have drake installed."
      ]
    },
    {
      "cell_type": "code",
      "metadata": {
        "id": "eeMrMI0-1Dhu"
      },
      "source": [
        "import importlib\n",
        "import sys\n",
        "from urllib.request import urlretrieve\n",
        "\n",
        "if 'google.colab' in sys.modules and importlib.util.find_spec('pydrake') is None:\n",
        "  version='0.25.0'\n",
        "  build='releases'\n",
        "  urlretrieve(f\"https://drake-packages.csail.mit.edu/drake/{build}/drake-{version}/setup_drake_colab.py\",\n",
        "              \"setup_drake_colab.py\")\n",
        "  from setup_drake_colab import setup_drake\n",
        "  setup_drake(version=version, build=build)\n",
        "  !pip install pyngrok==4.2.2\n",
        "\n",
        "# Install pyngrok.\n",
        "server_args = []\n",
        "if 'google.colab' in sys.modules:\n",
        "  server_args = ['--ngrok_http_tunnel']\n",
        "\n",
        "# Start a single meshcat server instance to use for the remainder of this notebook.\n",
        "from meshcat.servers.zmqserver import start_zmq_server_as_subprocess\n",
        "proc, zmq_url, web_url = start_zmq_server_as_subprocess(server_args=server_args)\n",
        "\n",
        "# Determine if this notebook is currently running as a notebook or a unit test.\n",
        "from IPython import get_ipython\n",
        "running_as_notebook = get_ipython() and hasattr(get_ipython(), 'kernel')\n",
        "\n",
        "# Imports\n",
        "import numpy as np\n",
        "import pydot\n",
        "from ipywidgets import Dropdown, Layout\n",
        "from IPython.display import display, HTML, SVG\n",
        "\n",
        "from pydrake.all import (\n",
        "    AddMultibodyPlantSceneGraph, ConnectMeshcatVisualizer, DiagramBuilder, \n",
        "    FindResourceOrThrow, GenerateHtml, InverseDynamicsController, \n",
        "    MultibodyPlant, Parser, Simulator)\n",
        "from pydrake.multibody.jupyter_widgets import MakeJointSlidersThatPublishOnCallback"
      ],
      "execution_count": 1,
      "outputs": []
    },
    {
      "cell_type": "markdown",
      "metadata": {
        "id": "wJWL-ldv5REK"
      },
      "source": [
        "# Robot arms\n",
        "\n",
        "The next two cells will give you a simple interface to move the joints around on a variety of robot arm models.\n",
        "\n",
        "Have a favorite robot that I haven't included here?  If you send me a link to a properly licensed URDF or SDF description of the robot and it's mesh files, I'm happy to add it!  It's worth taking a look at the files quickly, to get a sense for how they work: [SDF](https://github.com/RobotLocomotion/drake/blob/master/manipulation/models/iiwa_description/sdf/iiwa14_no_collision.sdf), [URDF](https://github.com/RobotLocomotion/drake/blob/master/manipulation/models/iiwa_description/urdf/iiwa14_no_collision.urdf).\n",
        "\n",
        "Note: The Jaco doesn't visualize properly in this renderer yet.  See drake issue [#13846](https://github.com/RobotLocomotion/drake/issues/13846)."
      ]
    },
    {
      "cell_type": "code",
      "metadata": {
        "id": "wlN0Twwr5rYS"
      },
      "source": [
        "arm_selector = Dropdown(options=[\"Kuka LBR iiwa 7\",\n",
        "                        \"Kuka LBR iiwa 14\",\n",
        "                        \"Kinova Jaco Gen2 (7 DoF)\",\n",
        "                        \"Franka Emika Panda\"],\n",
        "               description=\"Choose your robot arm\",\n",
        "               style = {'description_width': 'initial'})\n",
        "display(arm_selector)\n",
        "\n",
        "def get_model_file(description):\n",
        "  # Note: I could download remote model resources here if necessary.\n",
        "  if description == \"Kuka LBR iiwa 7\":\n",
        "    return FindResourceOrThrow(\"drake/manipulation/models/iiwa_description/iiwa7/iiwa7_no_collision.sdf\")\n",
        "  elif description == \"Kuka LBR iiwa 14\":\n",
        "    return FindResourceOrThrow(\"drake/manipulation/models/iiwa_description/sdf/iiwa14_no_collision.sdf\")\n",
        "  elif description == \"Kinova Jaco Gen2 (7 DoF)\":\n",
        "    return FindResourceOrThrow(\"drake/manipulation/models/jaco_description/urdf/j2s7s300.urdf\")\n",
        "  elif description == \"Franka Emika Panda\":\n",
        "    return FindResourceOrThrow(\"drake/manipulation/models/franka_description/urdf/panda_arm_hand.urdf\")\n",
        "  raise Exception(\"Unknown model\")\n"
      ],
      "execution_count": 2,
      "outputs": [
        {
          "output_type": "display_data",
          "data": {
            "text/plain": "Dropdown(description='Choose your robot arm', options=('Kuka LBR iiwa 7', 'Kuka LBR iiwa 14', 'Kinova Jaco Gen…",
            "application/vnd.jupyter.widget-view+json": {
              "version_major": 2,
              "version_minor": 0,
              "model_id": "5be72e5490d94c10ba6977e72fad44bd"
            }
          },
          "metadata": {}
        }
      ]
    },
    {
      "cell_type": "code",
      "metadata": {
        "id": "9GSF52A8ExQa"
      },
      "source": [
        "builder = DiagramBuilder()\n",
        "\n",
        "plant, scene_graph = AddMultibodyPlantSceneGraph(builder, time_step=1e-4)\n",
        "Parser(plant, scene_graph).AddModelFromFile(get_model_file(arm_selector.value))\n",
        "plant.Finalize()\n",
        "\n",
        "meshcat = ConnectMeshcatVisualizer(builder, scene_graph, zmq_url=zmq_url)\n",
        "diagram = builder.Build()\n",
        "context = diagram.CreateDefaultContext()\n",
        "\n",
        "meshcat.load()\n",
        "MakeJointSlidersThatPublishOnCallback(plant, meshcat, context);"
      ],
      "execution_count": 3,
      "outputs": [
        {
          "output_type": "stream",
          "name": "stdout",
          "text": [
            "Connecting to meshcat-server at zmq_url=tcp://127.0.0.1:6000...\nYou can open the visualizer by visiting the following URL:\nhttp://127.0.0.1:7000/static/\nConnected to meshcat-server.\n"
          ]
        },
        {
          "output_type": "display_data",
          "data": {
            "text/plain": "FloatSlider(value=0.0, description='iiwa_joint_1', layout=Layout(width=\"'200'\"), max=2.96706, min=-2.96706, st…",
            "application/vnd.jupyter.widget-view+json": {
              "version_major": 2,
              "version_minor": 0,
              "model_id": "5ca6d34894c045e4bd6f6a6ff292626c"
            }
          },
          "metadata": {}
        },
        {
          "output_type": "display_data",
          "data": {
            "text/plain": "FloatSlider(value=0.0, description='iiwa_joint_2', layout=Layout(width=\"'200'\"), max=2.0944, min=-2.0944, step…",
            "application/vnd.jupyter.widget-view+json": {
              "version_major": 2,
              "version_minor": 0,
              "model_id": "3d842a025dab486dbb77d986b051d182"
            }
          },
          "metadata": {}
        },
        {
          "output_type": "display_data",
          "data": {
            "text/plain": "FloatSlider(value=0.0, description='iiwa_joint_3', layout=Layout(width=\"'200'\"), max=2.96706, min=-2.96706, st…",
            "application/vnd.jupyter.widget-view+json": {
              "version_major": 2,
              "version_minor": 0,
              "model_id": "a4dfb24f0f994402b4472f155cf97dcf"
            }
          },
          "metadata": {}
        },
        {
          "output_type": "display_data",
          "data": {
            "text/plain": "FloatSlider(value=0.0, description='iiwa_joint_4', layout=Layout(width=\"'200'\"), max=2.0944, min=-2.0944, step…",
            "application/vnd.jupyter.widget-view+json": {
              "version_major": 2,
              "version_minor": 0,
              "model_id": "433baceae7d647b1b1eda66056b7a8ce"
            }
          },
          "metadata": {}
        },
        {
          "output_type": "display_data",
          "data": {
            "text/plain": "FloatSlider(value=0.0, description='iiwa_joint_5', layout=Layout(width=\"'200'\"), max=2.96706, min=-2.96706, st…",
            "application/vnd.jupyter.widget-view+json": {
              "version_major": 2,
              "version_minor": 0,
              "model_id": "a7c173c58f314f7db42630428b6683d7"
            }
          },
          "metadata": {}
        },
        {
          "output_type": "display_data",
          "data": {
            "text/plain": "FloatSlider(value=0.0, description='iiwa_joint_6', layout=Layout(width=\"'200'\"), max=2.0944, min=-2.0944, step…",
            "application/vnd.jupyter.widget-view+json": {
              "version_major": 2,
              "version_minor": 0,
              "model_id": "eabe6ff91dbf4c2bbfcfd13cdb70cfff"
            }
          },
          "metadata": {}
        },
        {
          "output_type": "display_data",
          "data": {
            "text/plain": "FloatSlider(value=0.0, description='iiwa_joint_7', layout=Layout(width=\"'200'\"), max=3.05433, min=-3.05433, st…",
            "application/vnd.jupyter.widget-view+json": {
              "version_major": 2,
              "version_minor": 0,
              "model_id": "6fad666c865e4b5c84ebff4e4f83815b"
            }
          },
          "metadata": {}
        }
      ]
    },
    {
      "cell_type": "markdown",
      "metadata": {
        "id": "nPy2VgSH1Dh5"
      },
      "source": [
        "# Simulation with block diagrams\n",
        "\n",
        "In this chapter, and throughout the notes, we will be building up our simulations and controllers using drake's block diagram modeling language (we call it the \"systems framework\").  [This tutorial](https://mybinder.org/v2/gh/RobotLocomotion/drake/nightly-release?filepath=tutorials/dynamical_systems.ipynb)  provides a brief introduction.  \n"
      ]
    },
    {
      "cell_type": "markdown",
      "metadata": {
        "id": "Dl9NDxDR1Dh6"
      },
      "source": [
        "# Simulating the (passive) iiwa\n",
        "\n",
        "Let's load our robot of choice (the Kuka iiwa) into the physics engine, which we call [MultibodyPlant](https://drake.mit.edu/doxygen_cxx/classdrake_1_1multibody_1_1_multibody_plant.html).\n"
      ]
    },
    {
      "cell_type": "code",
      "metadata": {
        "id": "DyfpxsGR1Dh6"
      },
      "source": [
        "plant = MultibodyPlant(time_step=1e-4)\n",
        "Parser(plant).AddModelFromFile(\n",
        "        FindResourceOrThrow(\"drake/manipulation/models/iiwa_description/sdf/iiwa14_no_collision.sdf\"))\n",
        "plant.WeldFrames(plant.world_frame(), plant.GetFrameByName(\"iiwa_link_0\"))\n",
        "plant.Finalize()"
      ],
      "execution_count": 4,
      "outputs": []
    },
    {
      "cell_type": "markdown",
      "metadata": {
        "id": "H3G-pTB5bit8"
      },
      "source": [
        "In Drake, we are very careful to separate the *state* of a system from the system itself.  For example, let's think of a dynamical system as given by the difference equation: $$x[n+1] = f(n, x[n], u[n]),$$ where $n$ is the \"time\", $x$ is the state, and $u$ is any inputs to the system.  The `System` describes $f()$, but we use a structure called the [`Context`](https://drake.mit.edu/doxygen_cxx/classdrake_1_1systems_1_1_context.html) to hold the runtime values: $n, x, u$.  We use a structure, because some systems have even more runtime values, that describe system parameters, random noise inputs, etc, and it is cleaner to pass a structure around than have each system accept a different list of possible inputs.  As a rule `System` is constant over the duration of a simulation, and you should be able to obtain repeatable, deterministic simulations given any value `Context`.\n",
        "\n",
        "Let's see what the `Context` looks like for the physics engine now that we've loaded the iiwa into it."
      ]
    },
    {
      "cell_type": "code",
      "metadata": {
        "id": "P8HoF2KPdXNL"
      },
      "source": [
        "context = plant.CreateDefaultContext()\n",
        "print(context)"
      ],
      "execution_count": 5,
      "outputs": [
        {
          "output_type": "stream",
          "name": "stdout",
          "text": [
            "::_ Context\n------------\nTime: 0\nStates:\n  1 discrete state groups with\n     14 states\n       0 0 0 0 0 0 0 0 0 0 0 0 0 0\n\nParameters:\n  38 numeric parameter groups with\n     1 parameters\n       0\n     1 parameters\n       1\n     1 parameters\n       0\n     1 parameters\n       1\n     1 parameters\n       0\n     1 parameters\n       1\n     1 parameters\n       0\n     1 parameters\n       1\n     1 parameters\n       0\n     1 parameters\n       1\n     1 parameters\n       0\n     1 parameters\n       1\n     1 parameters\n       0\n     1 parameters\n       1\n     10 parameters\n       nan nan nan nan nan nan nan nan nan nan\n     10 parameters\n            5   -0.1      0   0.07 0.0149 0.0269  0.016      0  0.007      0\n     10 parameters\n             5.76          0      -0.03       0.12  0.0210292  0.0201812 0.00303542          0          0     0.0036\n     10 parameters\n             6.35     0.0003      0.059      0.042  0.0100481 0.00655149 0.00521337  -1.77e-05  -1.26e-05  -0.002478\n     10 parameters\n              3.5          0       0.03       0.13  0.0249429     0.0237 0.00307143          0          0    -0.0039\n     10 parameters\n              3.5          0      0.067      0.034  0.0105021 0.00584171 0.00620329          0          0  -0.002278\n     10 parameters\n              3.5     0.0001      0.021      0.076 0.00907414 0.00826172 0.00172387   -2.1e-06   -7.6e-06  -0.001596\n     10 parameters\n              1.8          0     0.0006     0.0004 0.00272274 0.00261127 0.00200036          0          0   -2.4e-07\n     10 parameters\n               1.2           0           0        0.02  0.00123333  0.00123333 0.000833333           0           0           0\n     12 parameters\n        1  0  0  0  1  0  0  0  1 -0 -0 -0\n     12 parameters\n            1      0      0      0      1      0      0      0      1      0      0 0.1575\n     12 parameters\n       1 0 0 0 1 0 0 0 1 0 0 0\n     12 parameters\n                 -1  1.22465e-16            0  6.16298e-32  4.44089e-16            1  1.22465e-16            1 -4.44089e-16            0            0       0.2025\n     12 parameters\n                 1           0           0           0           1           0           0           0           1 7.70372e-34 2.77556e-17 2.77556e-17\n     12 parameters\n                 -1  1.22465e-16            0  6.16298e-32  4.44089e-16            1  1.22465e-16            1 -4.44089e-16            0       0.2045            0\n     12 parameters\n                  1  -1.2326e-32 -2.46519e-32   1.2326e-32            1 -1.51929e-64  2.46519e-32 -1.51929e-64            1            0            0 -5.55112e-17\n     12 parameters\n                  1            0            0            0 -4.44089e-16            1            0           -1 -4.44089e-16  -1.2326e-32            0       0.2155\n     12 parameters\n                  1  1.27639e-32 -1.27639e-32 -1.27639e-32            1  8.14591e-65  1.27639e-32  8.14591e-65            1 -2.75063e-33            0 -2.77556e-17\n     12 parameters\n                 -1            0 -1.22465e-16 -1.22465e-16 -4.44089e-16            1 -6.16298e-32            1  4.44089e-16  1.37389e-32       0.1845 -5.55112e-17\n     12 parameters\n                  1 -7.39557e-32  -1.2326e-32  7.39557e-32            1 -4.55787e-64   1.2326e-32 -4.55787e-64            1 -1.15556e-32 -5.81757e-17            0\n     12 parameters\n                  1            0            0            0 -4.44089e-16            1            0           -1 -4.44089e-16  -1.2326e-32            0       0.2155\n     12 parameters\n                  1 -8.21073e-48 -3.48631e-32  8.21073e-48            1 -1.43126e-79  3.48631e-32 -1.43126e-79            1  2.46519e-32            0 -2.77556e-17\n     12 parameters\n                 -1            0 -1.22465e-16 -1.22465e-16 -4.44089e-16            1 -6.16298e-32            1  4.44089e-16  3.69779e-32        0.081            0\n     12 parameters\n                  1 -2.46519e-32  3.69779e-32  2.46519e-32            1  4.55787e-64 -3.69779e-32  4.55787e-64            1  2.15704e-32  2.08167e-17  4.16334e-17\n\n"
          ]
        }
      ]
    },
    {
      "cell_type": "markdown",
      "metadata": {
        "id": "vr80vD3Be7uZ"
      },
      "source": [
        "The system has 14 state variables -- these are the 7 joint positions and 7 joint velocities for the iiwa.  Those states are discrete, because we passed a non-zero `time_step` to the constructor of the `MultibodyPlant`, which means the physics engine will be use a time-stepping simulation scheme (this will be the most performant when we start simulating contact).  Go ahead and try changing `time_step` to zero, and see what happens.\n",
        "\n",
        "You'll notice the context has lots of parameters (currently these include the mass, the center of mass, and the inertia of each body).  You won't need those any time soon, but it does enable some super cool advanced features.\n",
        "\n",
        "Because the `Context` for a `MultibodyPlant` can get quite complicated, `MultibodyPlant` offers some methods that help you get/set the values.  Let's set some non-zero initial positions."
      ]
    },
    {
      "cell_type": "code",
      "metadata": {
        "id": "73whw6YZf9PP"
      },
      "source": [
        "# Set all of the joint positions at once in a single vector.\n",
        "plant.SetPositions(context, [-1.57, 0.1, 0, 0, 0, 1.6, 0])\n",
        "# You can also set them by referencing particular joints.\n",
        "plant.GetJointByName(\"iiwa_joint_4\").set_angle(context, -1.2)\n",
        "print(context)"
      ],
      "execution_count": 7,
      "outputs": [
        {
          "output_type": "stream",
          "name": "stdout",
          "text": [
            "::_ Context\n------------\nTime: 0\nStates:\n  1 discrete state groups with\n     14 states\n       -1.57   0.1     0  -1.2     0   1.6     0     0     0     0     0     0     0     0\n\nParameters:\n  38 numeric parameter groups with\n     1 parameters\n       0\n     1 parameters\n       1\n     1 parameters\n       0\n     1 parameters\n       1\n     1 parameters\n       0\n     1 parameters\n       1\n     1 parameters\n       0\n     1 parameters\n       1\n     1 parameters\n       0\n     1 parameters\n       1\n     1 parameters\n       0\n     1 parameters\n       1\n     1 parameters\n       0\n     1 parameters\n       1\n     10 parameters\n       nan nan nan nan nan nan nan nan nan nan\n     10 parameters\n            5   -0.1      0   0.07 0.0149 0.0269  0.016      0  0.007      0\n     10 parameters\n             5.76          0      -0.03       0.12  0.0210292  0.0201812 0.00303542          0          0     0.0036\n     10 parameters\n             6.35     0.0003      0.059      0.042  0.0100481 0.00655149 0.00521337  -1.77e-05  -1.26e-05  -0.002478\n     10 parameters\n              3.5          0       0.03       0.13  0.0249429     0.0237 0.00307143          0          0    -0.0039\n     10 parameters\n              3.5          0      0.067      0.034  0.0105021 0.00584171 0.00620329          0          0  -0.002278\n     10 parameters\n              3.5     0.0001      0.021      0.076 0.00907414 0.00826172 0.00172387   -2.1e-06   -7.6e-06  -0.001596\n     10 parameters\n              1.8          0     0.0006     0.0004 0.00272274 0.00261127 0.00200036          0          0   -2.4e-07\n     10 parameters\n               1.2           0           0        0.02  0.00123333  0.00123333 0.000833333           0           0           0\n     12 parameters\n        1  0  0  0  1  0  0  0  1 -0 -0 -0\n     12 parameters\n            1      0      0      0      1      0      0      0      1      0      0 0.1575\n     12 parameters\n       1 0 0 0 1 0 0 0 1 0 0 0\n     12 parameters\n                 -1  1.22465e-16            0  6.16298e-32  4.44089e-16            1  1.22465e-16            1 -4.44089e-16            0            0       0.2025\n     12 parameters\n                 1           0           0           0           1           0           0           0           1 7.70372e-34 2.77556e-17 2.77556e-17\n     12 parameters\n                 -1  1.22465e-16            0  6.16298e-32  4.44089e-16            1  1.22465e-16            1 -4.44089e-16            0       0.2045            0\n     12 parameters\n                  1  -1.2326e-32 -2.46519e-32   1.2326e-32            1 -1.51929e-64  2.46519e-32 -1.51929e-64            1            0            0 -5.55112e-17\n     12 parameters\n                  1            0            0            0 -4.44089e-16            1            0           -1 -4.44089e-16  -1.2326e-32            0       0.2155\n     12 parameters\n                  1  1.27639e-32 -1.27639e-32 -1.27639e-32            1  8.14591e-65  1.27639e-32  8.14591e-65            1 -2.75063e-33            0 -2.77556e-17\n     12 parameters\n                 -1            0 -1.22465e-16 -1.22465e-16 -4.44089e-16            1 -6.16298e-32            1  4.44089e-16  1.37389e-32       0.1845 -5.55112e-17\n     12 parameters\n                  1 -7.39557e-32  -1.2326e-32  7.39557e-32            1 -4.55787e-64   1.2326e-32 -4.55787e-64            1 -1.15556e-32 -5.81757e-17            0\n     12 parameters\n                  1            0            0            0 -4.44089e-16            1            0           -1 -4.44089e-16  -1.2326e-32            0       0.2155\n     12 parameters\n                  1 -8.21073e-48 -3.48631e-32  8.21073e-48            1 -1.43126e-79  3.48631e-32 -1.43126e-79            1  2.46519e-32            0 -2.77556e-17\n     12 parameters\n                 -1            0 -1.22465e-16 -1.22465e-16 -4.44089e-16            1 -6.16298e-32            1  4.44089e-16  3.69779e-32        0.081            0\n     12 parameters\n                  1 -2.46519e-32  3.69779e-32  2.46519e-32            1  4.55787e-64 -3.69779e-32  4.55787e-64            1  2.15704e-32  2.08167e-17  4.16334e-17\n\n"
          ]
        }
      ]
    },
    {
      "cell_type": "markdown",
      "metadata": {
        "id": "LpQlGh1Ai27g"
      },
      "source": [
        "The iiwa model also defined 7 actuators.  Before we can run a simulation, we need to provide some values for those inputs to the `MultibodyPlant` `actuation_input_port`.  For this warm-up, we'll just set them to zero."
      ]
    },
    {
      "cell_type": "code",
      "metadata": {
        "id": "dJx-KrGUjR8x"
      },
      "source": [
        "plant.get_actuation_input_port().FixValue(context, np.zeros(7));"
      ],
      "execution_count": 8,
      "outputs": []
    },
    {
      "cell_type": "markdown",
      "metadata": {
        "id": "zqb66IBcierZ"
      },
      "source": [
        "Now we can set up and run a simulation."
      ]
    },
    {
      "cell_type": "code",
      "metadata": {
        "id": "6DYEtGbtimit"
      },
      "source": [
        "simulator = Simulator(plant, context)\n",
        "simulator.AdvanceTo(5.0)\n",
        "print(context)"
      ],
      "execution_count": 9,
      "outputs": [
        {
          "output_type": "stream",
          "name": "stdout",
          "text": [
            "::_ Context\n------------\nTime: 5\nStates:\n  1 discrete state groups with\n     14 states\n          -1.53096     2.09596  -0.0163808   -0.689524     2.92038    0.808658   -0.283092   -0.105431 -0.00676722    0.222034     4.05474   -0.935701     3.10138     7.08827\n\nParameters:\n  38 numeric parameter groups with\n     1 parameters\n       0\n     1 parameters\n       1\n     1 parameters\n       0\n     1 parameters\n       1\n     1 parameters\n       0\n     1 parameters\n       1\n     1 parameters\n       0\n     1 parameters\n       1\n     1 parameters\n       0\n     1 parameters\n       1\n     1 parameters\n       0\n     1 parameters\n       1\n     1 parameters\n       0\n     1 parameters\n       1\n     10 parameters\n       nan nan nan nan nan nan nan nan nan nan\n     10 parameters\n            5   -0.1      0   0.07 0.0149 0.0269  0.016      0  0.007      0\n     10 parameters\n             5.76          0      -0.03       0.12  0.0210292  0.0201812 0.00303542          0          0     0.0036\n     10 parameters\n             6.35     0.0003      0.059      0.042  0.0100481 0.00655149 0.00521337  -1.77e-05  -1.26e-05  -0.002478\n     10 parameters\n              3.5          0       0.03       0.13  0.0249429     0.0237 0.00307143          0          0    -0.0039\n     10 parameters\n              3.5          0      0.067      0.034  0.0105021 0.00584171 0.00620329          0          0  -0.002278\n     10 parameters\n              3.5     0.0001      0.021      0.076 0.00907414 0.00826172 0.00172387   -2.1e-06   -7.6e-06  -0.001596\n     10 parameters\n              1.8          0     0.0006     0.0004 0.00272274 0.00261127 0.00200036          0          0   -2.4e-07\n     10 parameters\n               1.2           0           0        0.02  0.00123333  0.00123333 0.000833333           0           0           0\n     12 parameters\n        1  0  0  0  1  0  0  0  1 -0 -0 -0\n     12 parameters\n            1      0      0      0      1      0      0      0      1      0      0 0.1575\n     12 parameters\n       1 0 0 0 1 0 0 0 1 0 0 0\n     12 parameters\n                 -1  1.22465e-16            0  6.16298e-32  4.44089e-16            1  1.22465e-16            1 -4.44089e-16            0            0       0.2025\n     12 parameters\n                 1           0           0           0           1           0           0           0           1 7.70372e-34 2.77556e-17 2.77556e-17\n     12 parameters\n                 -1  1.22465e-16            0  6.16298e-32  4.44089e-16            1  1.22465e-16            1 -4.44089e-16            0       0.2045            0\n     12 parameters\n                  1  -1.2326e-32 -2.46519e-32   1.2326e-32            1 -1.51929e-64  2.46519e-32 -1.51929e-64            1            0            0 -5.55112e-17\n     12 parameters\n                  1            0            0            0 -4.44089e-16            1            0           -1 -4.44089e-16  -1.2326e-32            0       0.2155\n     12 parameters\n                  1  1.27639e-32 -1.27639e-32 -1.27639e-32            1  8.14591e-65  1.27639e-32  8.14591e-65            1 -2.75063e-33            0 -2.77556e-17\n     12 parameters\n                 -1            0 -1.22465e-16 -1.22465e-16 -4.44089e-16            1 -6.16298e-32            1  4.44089e-16  1.37389e-32       0.1845 -5.55112e-17\n     12 parameters\n                  1 -7.39557e-32  -1.2326e-32  7.39557e-32            1 -4.55787e-64   1.2326e-32 -4.55787e-64            1 -1.15556e-32 -5.81757e-17            0\n     12 parameters\n                  1            0            0            0 -4.44089e-16            1            0           -1 -4.44089e-16  -1.2326e-32            0       0.2155\n     12 parameters\n                  1 -8.21073e-48 -3.48631e-32  8.21073e-48            1 -1.43126e-79  3.48631e-32 -1.43126e-79            1  2.46519e-32            0 -2.77556e-17\n     12 parameters\n                 -1            0 -1.22465e-16 -1.22465e-16 -4.44089e-16            1 -6.16298e-32            1  4.44089e-16  3.69779e-32        0.081            0\n     12 parameters\n                  1 -2.46519e-32  3.69779e-32  2.46519e-32            1  4.55787e-64 -3.69779e-32  4.55787e-64            1  2.15704e-32  2.08167e-17  4.16334e-17\n\n"
          ]
        }
      ]
    },
    {
      "cell_type": "markdown",
      "metadata": {
        "id": "8ZKEl1QU1Dh9"
      },
      "source": [
        "# Visualizing the scene\n",
        "\n",
        "The best way to visualize the results of a physics engine is with a 2D or 3D visualizer. For that, we need to add the system which curates the geometry of a scene (the geometry engine); in Drake with call it the [`SceneGraph`](https://drake.mit.edu/doxygen_cxx/classdrake_1_1geometry_1_1_scene_graph.html). Once we have a `SceneGraph`, then there are a number of different visualizers and sensors that we can add to the system to actually render the scene.\n",
        "\n",
        "We support a number of visualizers in drake (we ship a simple VTK-based \"drake-visualizer\" with our binary releases, or you can use RViz).  But because we're working in a jupyter notebook, and want you to be able to run 3D graphics on any machine without any installation required, we'll use the [MeshCat](https://github.com/rdeits/meshcat) visualizer throughout these notes.  \n",
        "\n",
        "To use all three systems (`MultibodyPlant`, `SceneGraph`, and `MeshcatVisualizer`), we need to assemble them into a [`Diagram`](https://drake.mit.edu/doxygen_cxx/classdrake_1_1systems_1_1_diagram.html) using a [`DiagramBuilder`](https://drake.mit.edu/doxygen_cxx/classdrake_1_1systems_1_1_diagram_builder.html).  Often you would add each system and then connect the ports together, but for common cases like we have here, we provide helper methods to reduce the boilerplate."
      ]
    },
    {
      "cell_type": "code",
      "metadata": {
        "id": "WkfjAgrL1Dh-"
      },
      "source": [
        "builder = DiagramBuilder()\n",
        "\n",
        "# Adds both MultibodyPlant and the SceneGraph, and wires them together.\n",
        "plant, scene_graph = AddMultibodyPlantSceneGraph(builder, time_step=1e-4)\n",
        "# Note that we parse into both the plant and the scene_graph here.\n",
        "Parser(plant, scene_graph).AddModelFromFile(\n",
        "        FindResourceOrThrow(\"drake/manipulation/models/iiwa_description/sdf/iiwa14_no_collision.sdf\"))\n",
        "plant.WeldFrames(plant.world_frame(), plant.GetFrameByName(\"iiwa_link_0\"))\n",
        "plant.Finalize()\n",
        "\n",
        "# Adds the MeshcatVisualizer and wires it to the SceneGraph.\n",
        "meshcat = ConnectMeshcatVisualizer(builder, scene_graph, zmq_url=zmq_url)\n",
        "\n",
        "diagram = builder.Build()"
      ],
      "execution_count": 10,
      "outputs": [
        {
          "output_type": "stream",
          "name": "stdout",
          "text": [
            "Connecting to meshcat-server at zmq_url=tcp://127.0.0.1:6000...\nYou can open the visualizer by visiting the following URL:\nhttp://127.0.0.1:7000/static/\nConnected to meshcat-server.\n"
          ]
        }
      ]
    },
    {
      "cell_type": "markdown",
      "metadata": {
        "id": "Rm4kVRMS1DiF"
      },
      "source": [
        "If you click on the link above, you can open a browser window to see the visualization.\n",
        "\n",
        "But the scene will be empty so far.  We need to actually construct the diagram and ask it to publish.  (You normally don't have to call these; MeshcatVisualizer will automatically load at initialization and publish on a fixed period during simulation)."
      ]
    },
    {
      "cell_type": "code",
      "metadata": {
        "id": "2YMNZBi11DiN"
      },
      "source": [
        "context = diagram.CreateDefaultContext()\n",
        "meshcat.load()\n",
        "diagram.Publish(context)"
      ],
      "execution_count": 11,
      "outputs": []
    },
    {
      "cell_type": "markdown",
      "metadata": {
        "id": "kPcyp3zv1Dir"
      },
      "source": [
        "We've put together quite a complex system now.  A `Diagram` is just another `System`, so it has an associated context."
      ]
    },
    {
      "cell_type": "code",
      "metadata": {
        "id": "Kr9BgEkcCQaZ"
      },
      "source": [
        "print(context)"
      ],
      "execution_count": 13,
      "outputs": [
        {
          "output_type": "stream",
          "name": "stdout",
          "text": [
            "::_ Context (of a Diagram)\n---------------------------\n14 total discrete states in 1 groups\n284 total numeric parameters in 38 groups\n1 total abstract parameters\n\n::_::plant Context\n-------------------\nTime: 0\nStates:\n  1 discrete state groups with\n     14 states\n       0 0 0 0 0 0 0 0 0 0 0 0 0 0\n\nParameters:\n  38 numeric parameter groups with\n     1 parameters\n       0\n     1 parameters\n       1\n     1 parameters\n       0\n     1 parameters\n       1\n     1 parameters\n       0\n     1 parameters\n       1\n     1 parameters\n       0\n     1 parameters\n       1\n     1 parameters\n       0\n     1 parameters\n       1\n     1 parameters\n       0\n     1 parameters\n       1\n     1 parameters\n       0\n     1 parameters\n       1\n     10 parameters\n       nan nan nan nan nan nan nan nan nan nan\n     10 parameters\n            5   -0.1      0   0.07 0.0149 0.0269  0.016      0  0.007      0\n     10 parameters\n             5.76          0      -0.03       0.12  0.0210292  0.0201812 0.00303542          0          0     0.0036\n     10 parameters\n             6.35     0.0003      0.059      0.042  0.0100481 0.00655149 0.00521337  -1.77e-05  -1.26e-05  -0.002478\n     10 parameters\n              3.5          0       0.03       0.13  0.0249429     0.0237 0.00307143          0          0    -0.0039\n     10 parameters\n              3.5          0      0.067      0.034  0.0105021 0.00584171 0.00620329          0          0  -0.002278\n     10 parameters\n              3.5     0.0001      0.021      0.076 0.00907414 0.00826172 0.00172387   -2.1e-06   -7.6e-06  -0.001596\n     10 parameters\n              1.8          0     0.0006     0.0004 0.00272274 0.00261127 0.00200036          0          0   -2.4e-07\n     10 parameters\n               1.2           0           0        0.02  0.00123333  0.00123333 0.000833333           0           0           0\n     12 parameters\n        1  0  0  0  1  0  0  0  1 -0 -0 -0\n     12 parameters\n            1      0      0      0      1      0      0      0      1      0      0 0.1575\n     12 parameters\n       1 0 0 0 1 0 0 0 1 0 0 0\n     12 parameters\n                 -1  1.22465e-16            0  6.16298e-32  4.44089e-16            1  1.22465e-16            1 -4.44089e-16            0            0       0.2025\n     12 parameters\n                 1           0           0           0           1           0           0           0           1 7.70372e-34 2.77556e-17 2.77556e-17\n     12 parameters\n                 -1  1.22465e-16            0  6.16298e-32  4.44089e-16            1  1.22465e-16            1 -4.44089e-16            0       0.2045            0\n     12 parameters\n                  1  -1.2326e-32 -2.46519e-32   1.2326e-32            1 -1.51929e-64  2.46519e-32 -1.51929e-64            1            0            0 -5.55112e-17\n     12 parameters\n                  1            0            0            0 -4.44089e-16            1            0           -1 -4.44089e-16  -1.2326e-32            0       0.2155\n     12 parameters\n                  1  1.27639e-32 -1.27639e-32 -1.27639e-32            1  8.14591e-65  1.27639e-32  8.14591e-65            1 -2.75063e-33            0 -2.77556e-17\n     12 parameters\n                 -1            0 -1.22465e-16 -1.22465e-16 -4.44089e-16            1 -6.16298e-32            1  4.44089e-16  1.37389e-32       0.1845 -5.55112e-17\n     12 parameters\n                  1 -7.39557e-32  -1.2326e-32  7.39557e-32            1 -4.55787e-64   1.2326e-32 -4.55787e-64            1 -1.15556e-32 -5.81757e-17            0\n     12 parameters\n                  1            0            0            0 -4.44089e-16            1            0           -1 -4.44089e-16  -1.2326e-32            0       0.2155\n     12 parameters\n                  1 -8.21073e-48 -3.48631e-32  8.21073e-48            1 -1.43126e-79  3.48631e-32 -1.43126e-79            1  2.46519e-32            0 -2.77556e-17\n     12 parameters\n                 -1            0 -1.22465e-16 -1.22465e-16 -4.44089e-16            1 -6.16298e-32            1  4.44089e-16  3.69779e-32        0.081            0\n     12 parameters\n                  1 -2.46519e-32  3.69779e-32  2.46519e-32            1  4.55787e-64 -3.69779e-32  4.55787e-64            1  2.15704e-32  2.08167e-17  4.16334e-17\n\n::_::scene_graph Context\n-------------------------\nTime: 0\nParameters:\n  1 abstract parameters\n\n"
          ]
        }
      ]
    },
    {
      "cell_type": "markdown",
      "metadata": {
        "id": "gu6_NRm_Cl-O"
      },
      "source": [
        "You can see that there is one additional \"abstract state\" from the `SceneGraph`.  `MeshcatVisualizer` is stateless.  Actually `SceneGraph` should really be stateless for these simple examples, too [#9501](https://github.com/RobotLocomotion/drake/issues/9501).\n",
        "\n",
        "It's also very useful to draw the actual block diagram."
      ]
    },
    {
      "cell_type": "code",
      "metadata": {
        "id": "XTeyZc7n1Dit"
      },
      "source": [
        "SVG(pydot.graph_from_dot_data(diagram.GetGraphvizString())[0].create_svg())"
      ],
      "execution_count": 14,
      "outputs": [
        {
          "output_type": "execute_result",
          "data": {
            "text/plain": [
              "<IPython.core.display.SVG object>"
            ],
            "image/svg+xml": "<svg xmlns=\"http://www.w3.org/2000/svg\" xmlns:xlink=\"http://www.w3.org/1999/xlink\" width=\"1142pt\" height=\"495pt\" viewBox=\"0.00 0.00 1142.00 495.00\">\n<g id=\"graph0\" class=\"graph\" transform=\"scale(1 1) rotate(0) translate(4 491)\">\n<title>_71946880</title>\n<polygon fill=\"white\" stroke=\"transparent\" points=\"-4,4 -4,-491 1138,-491 1138,4 -4,4\"/>\n<g id=\"clust1\" class=\"cluster\">\n<title>cluster71946880diagram</title>\n<polygon fill=\"none\" stroke=\"black\" points=\"8,-8 8,-479 1126,-479 1126,-8 8,-8\"/>\n<text text-anchor=\"middle\" x=\"567\" y=\"-463.8\" font-family=\"Times,serif\" font-size=\"14.00\">71946880</text>\n</g>\n<g id=\"clust4\" class=\"cluster\">\n<title>cluster71946880subsystems</title>\n<polygon fill=\"none\" stroke=\"white\" points=\"16,-16 16,-448 1118,-448 1118,-16 16,-16\"/>\n</g>\n<!-- 76407152 -->\n<g id=\"node1\" class=\"node\">\n<title>76407152</title>\n<polygon fill=\"none\" stroke=\"black\" points=\"24,-25 24,-439 646,-439 646,-25 24,-25\"/>\n<text text-anchor=\"middle\" x=\"335\" y=\"-423.8\" font-family=\"Times,serif\" font-size=\"14.00\">plant</text>\n<polyline fill=\"none\" stroke=\"black\" points=\"24,-416 646,-416 \"/>\n<text text-anchor=\"middle\" x=\"148\" y=\"-379.8\" font-family=\"Times,serif\" font-size=\"14.00\">geometry_query</text>\n<polyline fill=\"none\" stroke=\"black\" points=\"24,-351 272,-351 \"/>\n<text text-anchor=\"middle\" x=\"148\" y=\"-314.8\" font-family=\"Times,serif\" font-size=\"14.00\">WorldModelInstance_actuation</text>\n<polyline fill=\"none\" stroke=\"black\" points=\"24,-286 272,-286 \"/>\n<text text-anchor=\"middle\" x=\"148\" y=\"-249.8\" font-family=\"Times,serif\" font-size=\"14.00\">DefaultModelInstance_actuation</text>\n<polyline fill=\"none\" stroke=\"black\" points=\"24,-221 272,-221 \"/>\n<text text-anchor=\"middle\" x=\"148\" y=\"-184.8\" font-family=\"Times,serif\" font-size=\"14.00\">iiwa14_actuation</text>\n<polyline fill=\"none\" stroke=\"black\" points=\"24,-156 272,-156 \"/>\n<text text-anchor=\"middle\" x=\"148\" y=\"-119.8\" font-family=\"Times,serif\" font-size=\"14.00\">applied_generalized_force</text>\n<polyline fill=\"none\" stroke=\"black\" points=\"24,-91 272,-91 \"/>\n<text text-anchor=\"middle\" x=\"148\" y=\"-54.3\" font-family=\"Times,serif\" font-size=\"14.00\">applied_spatial_force</text>\n<polyline fill=\"none\" stroke=\"black\" points=\"272,-25 272,-416 \"/>\n<text text-anchor=\"middle\" x=\"459\" y=\"-400.8\" font-family=\"Times,serif\" font-size=\"14.00\">geometry_pose</text>\n<polyline fill=\"none\" stroke=\"black\" points=\"272,-393 646,-393 \"/>\n<text text-anchor=\"middle\" x=\"459\" y=\"-377.8\" font-family=\"Times,serif\" font-size=\"14.00\">continuous_state</text>\n<polyline fill=\"none\" stroke=\"black\" points=\"272,-370 646,-370 \"/>\n<text text-anchor=\"middle\" x=\"459\" y=\"-354.8\" font-family=\"Times,serif\" font-size=\"14.00\">body_poses</text>\n<polyline fill=\"none\" stroke=\"black\" points=\"272,-347 646,-347 \"/>\n<text text-anchor=\"middle\" x=\"459\" y=\"-331.8\" font-family=\"Times,serif\" font-size=\"14.00\">spatial_velocities</text>\n<polyline fill=\"none\" stroke=\"black\" points=\"272,-324 646,-324 \"/>\n<text text-anchor=\"middle\" x=\"459\" y=\"-308.8\" font-family=\"Times,serif\" font-size=\"14.00\">spatial_accelerations</text>\n<polyline fill=\"none\" stroke=\"black\" points=\"272,-301 646,-301 \"/>\n<text text-anchor=\"middle\" x=\"459\" y=\"-285.8\" font-family=\"Times,serif\" font-size=\"14.00\">generalized_acceleration</text>\n<polyline fill=\"none\" stroke=\"black\" points=\"272,-278 646,-278 \"/>\n<text text-anchor=\"middle\" x=\"459\" y=\"-262.8\" font-family=\"Times,serif\" font-size=\"14.00\">WorldModelInstance_continuous_state</text>\n<polyline fill=\"none\" stroke=\"black\" points=\"272,-255 646,-255 \"/>\n<text text-anchor=\"middle\" x=\"459\" y=\"-239.8\" font-family=\"Times,serif\" font-size=\"14.00\">WorldModelInstance_generalized_acceleration</text>\n<polyline fill=\"none\" stroke=\"black\" points=\"272,-232 646,-232 \"/>\n<text text-anchor=\"middle\" x=\"459\" y=\"-216.8\" font-family=\"Times,serif\" font-size=\"14.00\">DefaultModelInstance_continuous_state</text>\n<polyline fill=\"none\" stroke=\"black\" points=\"272,-209 646,-209 \"/>\n<text text-anchor=\"middle\" x=\"459\" y=\"-193.8\" font-family=\"Times,serif\" font-size=\"14.00\">DefaultModelInstance_generalized_acceleration</text>\n<polyline fill=\"none\" stroke=\"black\" points=\"272,-186 646,-186 \"/>\n<text text-anchor=\"middle\" x=\"459\" y=\"-170.8\" font-family=\"Times,serif\" font-size=\"14.00\">iiwa14_continuous_state</text>\n<polyline fill=\"none\" stroke=\"black\" points=\"272,-163 646,-163 \"/>\n<text text-anchor=\"middle\" x=\"459\" y=\"-147.8\" font-family=\"Times,serif\" font-size=\"14.00\">iiwa14_generalized_acceleration</text>\n<polyline fill=\"none\" stroke=\"black\" points=\"272,-140 646,-140 \"/>\n<text text-anchor=\"middle\" x=\"459\" y=\"-124.8\" font-family=\"Times,serif\" font-size=\"14.00\">WorldModelInstance_generalized_contact_forces</text>\n<polyline fill=\"none\" stroke=\"black\" points=\"272,-117 646,-117 \"/>\n<text text-anchor=\"middle\" x=\"459\" y=\"-101.8\" font-family=\"Times,serif\" font-size=\"14.00\">DefaultModelInstance_generalized_contact_forces</text>\n<polyline fill=\"none\" stroke=\"black\" points=\"272,-94 646,-94 \"/>\n<text text-anchor=\"middle\" x=\"459\" y=\"-78.8\" font-family=\"Times,serif\" font-size=\"14.00\">iiwa14_generalized_contact_forces</text>\n<polyline fill=\"none\" stroke=\"black\" points=\"272,-71 646,-71 \"/>\n<text text-anchor=\"middle\" x=\"459\" y=\"-55.8\" font-family=\"Times,serif\" font-size=\"14.00\">reaction_forces</text>\n<polyline fill=\"none\" stroke=\"black\" points=\"272,-48 646,-48 \"/>\n<text text-anchor=\"middle\" x=\"459\" y=\"-32.8\" font-family=\"Times,serif\" font-size=\"14.00\">contact_results</text>\n</g>\n<!-- 76065728 -->\n<g id=\"node2\" class=\"node\">\n<title>76065728</title>\n<polygon fill=\"none\" stroke=\"black\" points=\"682,-370.5 682,-439.5 914,-439.5 914,-370.5 682,-370.5\"/>\n<text text-anchor=\"middle\" x=\"798\" y=\"-424.3\" font-family=\"Times,serif\" font-size=\"14.00\">scene_graph</text>\n<polyline fill=\"none\" stroke=\"black\" points=\"682,-416.5 914,-416.5 \"/>\n<text text-anchor=\"middle\" x=\"728.5\" y=\"-389.8\" font-family=\"Times,serif\" font-size=\"14.00\">plant_pose</text>\n<polyline fill=\"none\" stroke=\"black\" points=\"775,-370.5 775,-416.5 \"/>\n<text text-anchor=\"middle\" x=\"844.5\" y=\"-401.3\" font-family=\"Times,serif\" font-size=\"14.00\">lcm_visualization</text>\n<polyline fill=\"none\" stroke=\"black\" points=\"775,-393.5 914,-393.5 \"/>\n<text text-anchor=\"middle\" x=\"844.5\" y=\"-378.3\" font-family=\"Times,serif\" font-size=\"14.00\">query</text>\n</g>\n<!-- 76407152&#45;&gt;76065728 -->\n<g id=\"edge1\" class=\"edge\">\n<title>76407152:y0-&gt;76065728:u0</title>\n<path fill=\"none\" stroke=\"black\" d=\"M646,-405C658.78,-405 663.18,-398.11 671.9,-394.77\"/>\n<polygon fill=\"black\" stroke=\"black\" points=\"672.75,-398.17 682,-393 671.55,-391.28 672.75,-398.17\"/>\n</g>\n<!-- 76065728&#45;&gt;76407152 -->\n<g id=\"edge2\" class=\"edge\">\n<title>76065728:y1-&gt;76407152:u0</title>\n<path fill=\"none\" stroke=\"black\" d=\"M845,-369C845,-296.55 743.78,-332.16 682,-370 652.33,-388.17 675.72,-421.42 646,-439.5 586.95,-475.41 73.31,-487.93 24,-439.5 9.29,-425.05 1.23,-395.98 13.4,-386.82\"/>\n<polygon fill=\"black\" stroke=\"black\" points=\"14.39,-390.18 23,-384 12.42,-383.46 14.39,-390.18\"/>\n</g>\n<!-- 77023168 -->\n<g id=\"node3\" class=\"node\">\n<title>77023168</title>\n<polygon fill=\"none\" stroke=\"black\" points=\"950,-370.5 950,-439.5 1110,-439.5 1110,-370.5 950,-370.5\"/>\n<text text-anchor=\"middle\" x=\"1030\" y=\"-424.3\" font-family=\"Times,serif\" font-size=\"14.00\">meshcat_visualizer</text>\n<polyline fill=\"none\" stroke=\"black\" points=\"950,-416.5 1110,-416.5 \"/>\n<text text-anchor=\"middle\" x=\"1019.5\" y=\"-401.3\" font-family=\"Times,serif\" font-size=\"14.00\">lcm_visualization</text>\n<polyline fill=\"none\" stroke=\"black\" points=\"950,-393.5 1089,-393.5 \"/>\n<text text-anchor=\"middle\" x=\"1019.5\" y=\"-378.3\" font-family=\"Times,serif\" font-size=\"14.00\">geometry_query</text>\n<polyline fill=\"none\" stroke=\"black\" points=\"1089,-370.5 1089,-416.5 \"/>\n<text text-anchor=\"middle\" x=\"1099.5\" y=\"-389.8\" font-family=\"Times,serif\" font-size=\"14.00\"> </text>\n</g>\n<!-- 76065728&#45;&gt;77023168 -->\n<g id=\"edge3\" class=\"edge\">\n<title>76065728:y1-&gt;77023168:u1</title>\n<path fill=\"none\" stroke=\"black\" d=\"M914,-382C926,-382 931.25,-382 939.88,-382\"/>\n<polygon fill=\"black\" stroke=\"black\" points=\"940,-385.5 950,-382 940,-378.5 940,-385.5\"/>\n</g>\n</g>\n</svg>"
          },
          "metadata": {},
          "execution_count": 14
        }
      ]
    },
    {
      "cell_type": "markdown",
      "metadata": {
        "id": "5OwrpdeGE5aa"
      },
      "source": [
        "There is one more important detail: **The `Context` for the `Diagram` is not the `Context` of the `MultibodyPlant`.  But you can extract the plant `Context`; and we need to in order to set the initial conditions of the robot."
      ]
    },
    {
      "cell_type": "code",
      "metadata": {
        "id": "aA5dasXyFWXo"
      },
      "source": [
        "plant_context = plant.GetMyMutableContextFromRoot(context)\n",
        "plant.SetPositions(plant_context, [-1.57, 0.1, 0, -1.2, 0, 1.6, 0])\n",
        "plant.get_actuation_input_port().FixValue(plant_context, np.zeros(7))\n",
        "print(context)"
      ],
      "execution_count": 17,
      "outputs": [
        {
          "output_type": "stream",
          "name": "stdout",
          "text": [
            "::_ Context (of a Diagram)\n---------------------------\n14 total discrete states in 1 groups\n284 total numeric parameters in 38 groups\n1 total abstract parameters\n\n::_::plant Context\n-------------------\nTime: 5\nStates:\n  1 discrete state groups with\n     14 states\n             -1.57         0.1           0        -1.2           0         1.6           0   -0.105431 -0.00676722    0.222034     4.05474   -0.935701     3.10138     7.08827\n\nParameters:\n  38 numeric parameter groups with\n     1 parameters\n       0\n     1 parameters\n       1\n     1 parameters\n       0\n     1 parameters\n       1\n     1 parameters\n       0\n     1 parameters\n       1\n     1 parameters\n       0\n     1 parameters\n       1\n     1 parameters\n       0\n     1 parameters\n       1\n     1 parameters\n       0\n     1 parameters\n       1\n     1 parameters\n       0\n     1 parameters\n       1\n     10 parameters\n       nan nan nan nan nan nan nan nan nan nan\n     10 parameters\n            5   -0.1      0   0.07 0.0149 0.0269  0.016      0  0.007      0\n     10 parameters\n             5.76          0      -0.03       0.12  0.0210292  0.0201812 0.00303542          0          0     0.0036\n     10 parameters\n             6.35     0.0003      0.059      0.042  0.0100481 0.00655149 0.00521337  -1.77e-05  -1.26e-05  -0.002478\n     10 parameters\n              3.5          0       0.03       0.13  0.0249429     0.0237 0.00307143          0          0    -0.0039\n     10 parameters\n              3.5          0      0.067      0.034  0.0105021 0.00584171 0.00620329          0          0  -0.002278\n     10 parameters\n              3.5     0.0001      0.021      0.076 0.00907414 0.00826172 0.00172387   -2.1e-06   -7.6e-06  -0.001596\n     10 parameters\n              1.8          0     0.0006     0.0004 0.00272274 0.00261127 0.00200036          0          0   -2.4e-07\n     10 parameters\n               1.2           0           0        0.02  0.00123333  0.00123333 0.000833333           0           0           0\n     12 parameters\n        1  0  0  0  1  0  0  0  1 -0 -0 -0\n     12 parameters\n            1      0      0      0      1      0      0      0      1      0      0 0.1575\n     12 parameters\n       1 0 0 0 1 0 0 0 1 0 0 0\n     12 parameters\n                 -1  1.22465e-16            0  6.16298e-32  4.44089e-16            1  1.22465e-16            1 -4.44089e-16            0            0       0.2025\n     12 parameters\n                 1           0           0           0           1           0           0           0           1 7.70372e-34 2.77556e-17 2.77556e-17\n     12 parameters\n                 -1  1.22465e-16            0  6.16298e-32  4.44089e-16            1  1.22465e-16            1 -4.44089e-16            0       0.2045            0\n     12 parameters\n                  1  -1.2326e-32 -2.46519e-32   1.2326e-32            1 -1.51929e-64  2.46519e-32 -1.51929e-64            1            0            0 -5.55112e-17\n     12 parameters\n                  1            0            0            0 -4.44089e-16            1            0           -1 -4.44089e-16  -1.2326e-32            0       0.2155\n     12 parameters\n                  1  1.27639e-32 -1.27639e-32 -1.27639e-32            1  8.14591e-65  1.27639e-32  8.14591e-65            1 -2.75063e-33            0 -2.77556e-17\n     12 parameters\n                 -1            0 -1.22465e-16 -1.22465e-16 -4.44089e-16            1 -6.16298e-32            1  4.44089e-16  1.37389e-32       0.1845 -5.55112e-17\n     12 parameters\n                  1 -7.39557e-32  -1.2326e-32  7.39557e-32            1 -4.55787e-64   1.2326e-32 -4.55787e-64            1 -1.15556e-32 -5.81757e-17            0\n     12 parameters\n                  1            0            0            0 -4.44089e-16            1            0           -1 -4.44089e-16  -1.2326e-32            0       0.2155\n     12 parameters\n                  1 -8.21073e-48 -3.48631e-32  8.21073e-48            1 -1.43126e-79  3.48631e-32 -1.43126e-79            1  2.46519e-32            0 -2.77556e-17\n     12 parameters\n                 -1            0 -1.22465e-16 -1.22465e-16 -4.44089e-16            1 -6.16298e-32            1  4.44089e-16  3.69779e-32        0.081            0\n     12 parameters\n                  1 -2.46519e-32  3.69779e-32  2.46519e-32            1  4.55787e-64 -3.69779e-32  4.55787e-64            1  2.15704e-32  2.08167e-17  4.16334e-17\n\n::_::scene_graph Context\n-------------------------\nTime: 5\nParameters:\n  1 abstract parameters\n\n"
          ]
        }
      ]
    },
    {
      "cell_type": "markdown",
      "metadata": {
        "id": "Js2ulEaFF0yD"
      },
      "source": [
        "Accidentally using `context` instead of `plant_context` is a very common mistake!\n",
        "\n",
        "Ok, now we're ready to simulate.  Make sure your visualizer window is visible, then run the following cell."
      ]
    },
    {
      "cell_type": "code",
      "metadata": {
        "id": "ZySlXAKSGLaS"
      },
      "source": [
        "simulator = Simulator(diagram, context)\n",
        "simulator.set_target_realtime_rate(1.0)\n",
        "simulator.AdvanceTo(5.0 if running_as_notebook else 0.1)"
      ],
      "execution_count": 18,
      "outputs": [
        {
          "output_type": "error",
          "ename": "RuntimeError",
          "evalue": "C++ object must be owned by pybind11 when attempting to release to C++",
          "traceback": [
            "\u001b[0;31m---------------------------------------------------------------------------\u001b[0m",
            "\u001b[0;31mRuntimeError\u001b[0m                              Traceback (most recent call last)",
            "\u001b[0;32m<ipython-input-18-61e5c88cb612>\u001b[0m in \u001b[0;36m<module>\u001b[0;34m\u001b[0m\n\u001b[0;32m----> 1\u001b[0;31m \u001b[0msimulator\u001b[0m \u001b[0;34m=\u001b[0m \u001b[0mSimulator\u001b[0m\u001b[0;34m(\u001b[0m\u001b[0mdiagram\u001b[0m\u001b[0;34m,\u001b[0m \u001b[0mcontext\u001b[0m\u001b[0;34m)\u001b[0m\u001b[0;34m\u001b[0m\u001b[0;34m\u001b[0m\u001b[0m\n\u001b[0m\u001b[1;32m      2\u001b[0m \u001b[0msimulator\u001b[0m\u001b[0;34m.\u001b[0m\u001b[0mset_target_realtime_rate\u001b[0m\u001b[0;34m(\u001b[0m\u001b[0;36m1.0\u001b[0m\u001b[0;34m)\u001b[0m\u001b[0;34m\u001b[0m\u001b[0;34m\u001b[0m\u001b[0m\n\u001b[1;32m      3\u001b[0m \u001b[0msimulator\u001b[0m\u001b[0;34m.\u001b[0m\u001b[0mAdvanceTo\u001b[0m\u001b[0;34m(\u001b[0m\u001b[0;36m5.0\u001b[0m \u001b[0;32mif\u001b[0m \u001b[0mrunning_as_notebook\u001b[0m \u001b[0;32melse\u001b[0m \u001b[0;36m0.1\u001b[0m\u001b[0;34m)\u001b[0m\u001b[0;34m\u001b[0m\u001b[0;34m\u001b[0m\u001b[0m\n",
            "\u001b[0;31mRuntimeError\u001b[0m: C++ object must be owned by pybind11 when attempting to release to C++"
          ]
        }
      ]
    },
    {
      "cell_type": "markdown",
      "metadata": {
        "id": "Fdkx17YxGPSz"
      },
      "source": [
        "Glorious!\n",
        "\n",
        "Here's one more trick.  You can ask MeshCat to record the animation, and then review it in the visualizer.  I'll repeat the preamble here to make this cell stand-alone.  (Plus we cannot reuse a system in multiple diagrams; the ownership is restricted)."
      ]
    },
    {
      "cell_type": "code",
      "metadata": {
        "id": "HUeu3reLWw_H"
      },
      "source": [
        "builder = DiagramBuilder()\n",
        "\n",
        "# Adds both MultibodyPlant and the SceneGraph, and wires them together.\n",
        "plant, scene_graph = AddMultibodyPlantSceneGraph(builder, time_step=1e-4)\n",
        "# Note that we parse into both the plant and the scene_graph here.\n",
        "Parser(plant, scene_graph).AddModelFromFile(\n",
        "        FindResourceOrThrow(\"drake/manipulation/models/iiwa_description/sdf/iiwa14_no_collision.sdf\"))\n",
        "plant.WeldFrames(plant.world_frame(), plant.GetFrameByName(\"iiwa_link_0\"))\n",
        "plant.Finalize()\n",
        "\n",
        "# Adds the MeshcatVisualizer and wires it to the SceneGraph.\n",
        "meshcat = ConnectMeshcatVisualizer(builder, scene_graph, zmq_url=zmq_url, delete_prefix_on_load=False)\n",
        "\n",
        "diagram = builder.Build()\n",
        "context = diagram.CreateDefaultContext()\n",
        "plant_context = plant.GetMyMutableContextFromRoot(context)\n",
        "plant.SetPositions(plant_context, [-1.57, 0.1, 0, -1.2, 0, 1.6, 0])\n",
        "plant.get_actuation_input_port().FixValue(plant_context, np.zeros(7))\n",
        "\n",
        "simulator = Simulator(diagram, context)\n",
        "simulator.set_target_realtime_rate(1.0)\n",
        "\n",
        "meshcat.start_recording()\n",
        "simulator.AdvanceTo(5.0 if running_as_notebook else 0.1)\n",
        "meshcat.stop_recording()\n",
        "meshcat.publish_recording()"
      ],
      "execution_count": 20,
      "outputs": [
        {
          "output_type": "stream",
          "name": "stdout",
          "text": [
            "Connecting to meshcat-server at zmq_url=tcp://127.0.0.1:6000...\nYou can open the visualizer by visiting the following URL:\nhttp://127.0.0.1:7000/static/\nConnected to meshcat-server.\n"
          ]
        }
      ]
    },
    {
      "cell_type": "markdown",
      "metadata": {
        "id": "8SPr8dXoY3IT"
      },
      "source": [
        "# Adding the iiwa controller\n",
        "\n",
        "The iiwa hardware interface runs through a control system provided by the manufacturer.  We can't turn it off.  The best we can do is add our approximation of it to our simulation.  I'll repeat everything we've set up before (to keep this example self-contained), but we'll add one more system for the controller."
      ]
    },
    {
      "cell_type": "code",
      "metadata": {
        "id": "Qd245P5kY666"
      },
      "source": [
        "builder = DiagramBuilder()\n",
        "\n",
        "# Adds both MultibodyPlant and the SceneGraph, and wires them together.\n",
        "plant, scene_graph = AddMultibodyPlantSceneGraph(builder, time_step=1e-4)\n",
        "# Note that we parse into both the plant and the scene_graph here.\n",
        "iiwa_model = Parser(plant, scene_graph).AddModelFromFile(\n",
        "        FindResourceOrThrow(\"drake/manipulation/models/iiwa_description/sdf/iiwa14_no_collision.sdf\"))\n",
        "plant.WeldFrames(plant.world_frame(), plant.GetFrameByName(\"iiwa_link_0\"))\n",
        "plant.Finalize()\n",
        "\n",
        "# Adds the MeshcatVisualizer and wires it to the SceneGraph.\n",
        "meshcat = ConnectMeshcatVisualizer(builder, scene_graph, zmq_url=zmq_url, delete_prefix_on_load=False)\n",
        "\n",
        "# Adds an approximation of the iiwa controller.\n",
        "# TODO(russt): replace this with the joint impedance controller.\n",
        "Kp = np.full(7, 100)\n",
        "Ki = 2 * np.sqrt(Kp)\n",
        "Kd = np.full(7, 1)\n",
        "iiwa_controller = builder.AddSystem(InverseDynamicsController(plant, Kp, Ki, Kd, False))\n",
        "iiwa_controller.set_name(\"iiwa_controller\");\n",
        "builder.Connect(plant.get_state_output_port(iiwa_model),\n",
        "                iiwa_controller.get_input_port_estimated_state())\n",
        "builder.Connect(iiwa_controller.get_output_port_control(),\n",
        "                plant.get_actuation_input_port())\n",
        "diagram = builder.Build()"
      ],
      "execution_count": null,
      "outputs": []
    },
    {
      "cell_type": "markdown",
      "metadata": {
        "id": "SwmwcTcOX-pm"
      },
      "source": [
        "Let's see what our diagram looks like..."
      ]
    },
    {
      "cell_type": "code",
      "metadata": {
        "id": "1SMxPMvdxk99"
      },
      "source": [
        "SVG(pydot.graph_from_dot_data(diagram.GetGraphvizString())[0].create_svg())"
      ],
      "execution_count": null,
      "outputs": []
    },
    {
      "cell_type": "markdown",
      "metadata": {
        "id": "ZWoEJzsixwGj"
      },
      "source": [
        "As our diagrams get more complex, we're going to need a better approach to rendering the diagrams.  I've got a rough first pass (that it still suffering from some licensing issues) in javascript that I aim to improve.\n",
        "\n",
        "TODO(russt): Update the javascript rendering [#13874](https://github.com/RobotLocomotion/drake/issues/13874).  "
      ]
    },
    {
      "cell_type": "code",
      "metadata": {
        "id": "EjJzh5veYA6e"
      },
      "source": [
        "diagram.set_name(\"diagram\")\n",
        "HTML('<script src=\"https://unpkg.com/gojs/release/go.js\"></script>' + GenerateHtml(diagram))"
      ],
      "execution_count": null,
      "outputs": []
    },
    {
      "cell_type": "markdown",
      "metadata": {
        "id": "wuo1q8PgXzrp"
      },
      "source": [
        "To set up the `Context` now, instead of setting the `actuation_input` to zero, we set the `desired_state` of the iiwa controller to be the current position of the arm.  But the desired *state* must also include desired velocities, so we set those to zero."
      ]
    },
    {
      "cell_type": "code",
      "metadata": {
        "id": "GHrnvvpXXixB"
      },
      "source": [
        "context = diagram.CreateDefaultContext()\n",
        "plant_context = plant.GetMyMutableContextFromRoot(context)\n",
        "q0 = np.array([-1.57, 0.1, 0, -1.2, 0, 1.6, 0])\n",
        "x0 = np.hstack((q0, 0*q0))\n",
        "plant.SetPositions(plant_context, q0)\n",
        "iiwa_controller.GetInputPort('desired_state').FixValue(\n",
        "    iiwa_controller.GetMyMutableContextFromRoot(context), x0)\n",
        "print(context)"
      ],
      "execution_count": null,
      "outputs": []
    },
    {
      "cell_type": "markdown",
      "metadata": {
        "id": "kAWFX5H7atro"
      },
      "source": [
        "Now, if we simulate, the robot just stays put.  Just like the real robot would."
      ]
    },
    {
      "cell_type": "code",
      "metadata": {
        "id": "qvJ2PptyYuz2"
      },
      "source": [
        "simulator = Simulator(diagram, context)\n",
        "simulator.set_target_realtime_rate(1.0);\n",
        "simulator.AdvanceTo(5.0 if running_as_notebook else 0.1);"
      ],
      "execution_count": null,
      "outputs": []
    },
    {
      "cell_type": "markdown",
      "metadata": {
        "id": "7q0A14bAilIX"
      },
      "source": [
        "# Robot hands\n",
        "\n",
        "I don't have the same smörgåsbord of robot models to offer for robot hands (yet).  We do have the allegro hand model available, and I'm happy to add more here (though many will require some care to handle their kinematic constraints).  For now, you can at least try out the [Allegro Hand](http://www.wonikrobotics.com/Allegro-Hand.htm).\n",
        "\n",
        "TODO(russt): Consider porting Robotiq, Sandia, or IHY-hand from our [openhumanoids](https://github.com/openhumanoids/oh-distro/tree/master/software/models/common_components) project."
      ]
    },
    {
      "cell_type": "code",
      "metadata": {
        "id": "ILYLouFTjv6e"
      },
      "source": [
        "def hand_sliders():\n",
        "    builder = DiagramBuilder()\n",
        "\n",
        "    plant, scene_graph = AddMultibodyPlantSceneGraph(builder, time_step=0.0)\n",
        "    allegro_file = FindResourceOrThrow(\"drake/manipulation/models/allegro_hand_description/sdf/allegro_hand_description_right.sdf\")\n",
        "    Parser(plant, scene_graph).AddModelFromFile(allegro_file)\n",
        "    plant.Finalize()\n",
        "\n",
        "    meshcat = ConnectMeshcatVisualizer(builder, scene_graph, zmq_url=zmq_url)\n",
        "    diagram = builder.Build()\n",
        "    context = diagram.CreateDefaultContext()\n",
        "\n",
        "    meshcat.load()\n",
        "    MakeJointSlidersThatPublishOnCallback(plant, meshcat, context)\n",
        "\n",
        "hand_sliders()"
      ],
      "execution_count": null,
      "outputs": []
    },
    {
      "cell_type": "code",
      "metadata": {
        "id": "5SjOClhTltPk"
      },
      "source": [],
      "execution_count": null,
      "outputs": []
    }
  ]
}